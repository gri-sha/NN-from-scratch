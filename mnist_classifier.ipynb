{
 "cells": [
  {
   "cell_type": "code",
   "execution_count": 35,
   "metadata": {},
   "outputs": [],
   "source": [
    "import numpy as np\n",
    "import matplotlib.pyplot as plt\n",
    "%matplotlib inline"
   ]
  },
  {
   "cell_type": "code",
   "execution_count": 36,
   "metadata": {},
   "outputs": [],
   "source": [
    "np.random.seed(4589)"
   ]
  },
  {
   "cell_type": "code",
   "execution_count": 37,
   "metadata": {},
   "outputs": [],
   "source": [
    "class ReLU:\n",
    "    name = \"ReLU\"\n",
    "    \n",
    "    def __call__(self, z):\n",
    "        return np.maximum(0, z)\n",
    "    \n",
    "    def derivative(self, z):\n",
    "        return np.where(z > 0, 1.0, 0.0)"
   ]
  },
  {
   "cell_type": "code",
   "execution_count": 38,
   "metadata": {},
   "outputs": [],
   "source": [
    "class MSE:\n",
    "    name = \"MSE\"\n",
    "\n",
    "    # x - predicted values, y - target values\n",
    "    def __call__(self, y, x):\n",
    "        return np.mean((y - x) ** 2)\n",
    "    \n",
    "    def derivative(self, y, x):\n",
    "        return (-2/x.shape[1])*(y-x)"
   ]
  },
  {
   "cell_type": "code",
   "execution_count": 39,
   "metadata": {},
   "outputs": [],
   "source": [
    "class DenseLayer:\n",
    "    def __init__(self, input_size, num_neurons, activation, name=\"Billy\"):\n",
    "        self.input_size = input_size\n",
    "        self.num_neurons = num_neurons\n",
    "        self.name = name\n",
    "        self.act = activation\n",
    "\n",
    "        self.weights = None\n",
    "        self.biases = None\n",
    "        self.inputs = None\n",
    "        self.z = None\n",
    "\n",
    "    def __str__(self):\n",
    "        return f\"{self.name}: ({self.num_neurons}, {self.act.name})\"\n",
    "\n",
    "    def initialize(self, init_weights_mult):\n",
    "        self.weights = (\n",
    "            np.random.randn(self.input_size, self.num_neurons) * init_weights_mult\n",
    "        )\n",
    "        self.biases = np.zeros((1, self.num_neurons))\n",
    "\n",
    "    def forward(self, inputs):\n",
    "        self.inputs = inputs\n",
    "        self.z = np.dot(self.inputs, self.weights) + self.biases\n",
    "        activations = self.act(self.z)\n",
    "        return activations\n",
    "\n",
    "    def backward(self, output_error, learning_rate):\n",
    "        dz = output_error * self.act.derivative(self.z)\n",
    "        output_error_prev = np.dot(dz, self.weights.T)\n",
    "        self.weights -= learning_rate * np.dot(self.inputs.T, dz)\n",
    "        self.biases -= learning_rate * np.sum(dz, axis=0, keepdims=True)\n",
    "\n",
    "        return output_error_prev"
   ]
  },
  {
   "cell_type": "code",
   "execution_count": 40,
   "metadata": {},
   "outputs": [],
   "source": [
    "class Sequential:\n",
    "    def __init__(\n",
    "        self,\n",
    "        layers=[],\n",
    "        init_weights_mult=0.01,\n",
    "        name=\"My Model\",\n",
    "    ):\n",
    "        self.name = name\n",
    "        self.layers = layers\n",
    "        self.shape = [layer.num_neurons for layer in self.layers]\n",
    "        self.init_weights_mult = init_weights_mult\n",
    "\n",
    "        self.compile()\n",
    "\n",
    "    def compile(self):\n",
    "        self.layers[0].name = \"L_1\"\n",
    "        self.layers[0].initialize(self.init_weights_mult)\n",
    "        for i in range(1, len(self.layers)):\n",
    "            if self.layers[i].input_size != self.layers[i-1].num_neurons:\n",
    "                raise ValueError(\"Non-valid input shape.\")\n",
    "            self.layers[i].name = f\"L_{i}\"\n",
    "            self.layers[i].initialize(self.init_weights_mult)\n",
    "\n",
    "    def __str__(self):\n",
    "        result = []\n",
    "\n",
    "        result.append(\n",
    "            f\"{self.name}: \"\n",
    "            + \" -> \".join(str(layer) for layer in self.layers)\n",
    "            + \"\\n\"\n",
    "        )\n",
    "        result.append(f\"{'Layer':<10} {'Neurons':<10} {'Weights':<60} {'Biases':<30}\")\n",
    "        result.append(\"-\" * 110)\n",
    "\n",
    "        for i, layer in enumerate(self.layers):\n",
    "\n",
    "            if layer.weights is None:\n",
    "                formatted_weights = \"None\"\n",
    "            else:\n",
    "                weights_flat = layer.weights.flatten()\n",
    "                if len(weights_flat) > 6:\n",
    "                    first_three = \", \".join(\n",
    "                        f\"{weight:.4f}\" for weight in weights_flat[:3]\n",
    "                    )\n",
    "                    last_three = \", \".join(\n",
    "                        f\"{weight:.4f}\" for weight in weights_flat[-3:]\n",
    "                    )\n",
    "                    formatted_weights = f\"{first_three}, ..., {last_three}\"\n",
    "                else:\n",
    "                    formatted_weights = \", \".join(\n",
    "                        f\"{weight:.4f}\" for weight in weights_flat\n",
    "                    )\n",
    "\n",
    "            if layer.biases is None:\n",
    "                formatted_biases = \"None\"\n",
    "            else:\n",
    "                biases_flat = layer.biases.flatten()\n",
    "                if len(biases_flat) > 4:\n",
    "                    formatted_biases = (\n",
    "                        \", \".join(f\"{bias:.2f}\" for bias in biases_flat[:4]) + \", ...\"\n",
    "                    )\n",
    "                else:\n",
    "                    formatted_biases = \", \".join(f\"{bias:.2f}\" for bias in biases_flat)\n",
    "\n",
    "            result.append(\n",
    "                f\"{layer.name:<10} {layer.num_neurons:<10} {formatted_weights:<60} {formatted_biases:<30}\"\n",
    "            )\n",
    "\n",
    "        return \"\\n\" + \"\\n\".join(result) + \"\\n\"\n",
    "\n",
    "    def forward(self, input_data):\n",
    "        for layer in self.layers:\n",
    "            input_data = layer.forward(input_data)\n",
    "        return input_data\n",
    "\n",
    "    def backward(self, output_error ,learning_rate):\n",
    "        for layer in reversed(self.layers):\n",
    "            output_error = layer.backward(output_error, learning_rate)"
   ]
  },
  {
   "cell_type": "code",
   "execution_count": 41,
   "metadata": {},
   "outputs": [],
   "source": [
    "def train(\n",
    "    model,\n",
    "    train_data,\n",
    "    train_labels,\n",
    "    loss,\n",
    "    learning_rate,\n",
    "    batch_size,\n",
    "    epochs,\n",
    "    shuffle=True,\n",
    "    make_plot = True\n",
    "):\n",
    "    if np.shape(train_data)[0] != np.shape(train_labels)[0]:\n",
    "        raise ValueError(\"The number of training samples and labels must match.\")\n",
    "\n",
    "    input_size = train_data.shape[1] * train_data.shape[2]\n",
    "    loss_history = np.zeros(epochs)\n",
    "    pred_history = np.zeros(epochs)\n",
    "\n",
    "    for e in range(epochs):\n",
    "        if shuffle:\n",
    "            indices = np.random.permutation(len(train_data))\n",
    "            train_data = train_data[indices]\n",
    "            train_labels = train_labels[indices]\n",
    "\n",
    "        accumulated_error = np.zeros((1, 10))\n",
    "\n",
    "        for i in range(len(train_data)):\n",
    "            input = train_data[i].reshape((1, input_size))\n",
    "            output = model.forward(input)\n",
    "\n",
    "            predicted_label = np.argmax(output)\n",
    "            if predicted_label == train_labels[i]:\n",
    "                pred_history[e] += 1\n",
    "\n",
    "            true_val = np.zeros((1, 10))\n",
    "            true_val[0][train_labels[i]] = 1\n",
    "            loss_history[e] += loss(y=true_val, x=output)\n",
    "\n",
    "            accumulated_error += loss.derivative(y=true_val, x=output)\n",
    "\n",
    "            if (i + 1) % batch_size == 0:\n",
    "                model.backward(accumulated_error, learning_rate)\n",
    "                accumulated_error = np.zeros((1, 10))\n",
    "    \n",
    "    if make_plot:\n",
    "        fig, ax1 = plt.subplots()\n",
    "\n",
    "        ax1.set_xlabel(\"Epochs\")\n",
    "        ax1.set_ylabel(\"Loss\", color=\"coral\")\n",
    "        ax1.plot(loss_history, color=\"coral\", label=\"Loss\")\n",
    "        ax1.set_ylim(0, 6000)\n",
    "\n",
    "        ax2 = ax1.twinx()\n",
    "        ax2.set_ylabel(\"Correct Predictions\", color=\"green\")\n",
    "        ax2.plot(pred_history, color=\"green\", label=\"Correct Predictions\")\n",
    "        ax2.set_ylim(0, 60000)\n",
    "\n",
    "        plt.title(\"Training Loss and Accuracy Over Time\")\n",
    "        fig.tight_layout()\n",
    "        plt.grid(True)\n",
    "        plt.show()"
   ]
  },
  {
   "cell_type": "code",
   "execution_count": 42,
   "metadata": {},
   "outputs": [],
   "source": [
    "def test(model, test_data, test_labels):\n",
    "    right_ans = 0\n",
    "    num_samples = len(test_data)\n",
    "\n",
    "    for i in range(test_data.shape[0]):\n",
    "        input_data = test_data[i].reshape((1, test_data.shape[1] * test_data.shape[2]))\n",
    "        output = model.forward(input_data)\n",
    "\n",
    "        predicted_label = np.argmax(output)\n",
    "        if predicted_label == test_labels[i]:\n",
    "            right_ans += 1\n",
    "\n",
    "    accuracy = right_ans / num_samples if num_samples > 0 else 0.0\n",
    "    print(f\"Correct predictions: {right_ans}/{num_samples}\")\n",
    "    print(f\"Accuracy: {accuracy:.3%}\")"
   ]
  },
  {
   "cell_type": "code",
   "execution_count": 43,
   "metadata": {},
   "outputs": [],
   "source": [
    "x_train = np.load(\"dataset/mnist_x_train.npy\") / 255\n",
    "y_train = np.load(\"dataset/mnist_y_train.npy\") \n",
    "x_test = np.load(\"dataset/mnist_x_test.npy\") / 255\n",
    "y_test = np.load(\"dataset/mnist_y_test.npy\")"
   ]
  },
  {
   "cell_type": "code",
   "execution_count": 44,
   "metadata": {},
   "outputs": [
    {
     "name": "stdout",
     "output_type": "stream",
     "text": [
      "\n",
      "My Model: L_1: (64, ReLU) -> L_1: (32, ReLU) -> L_2: (10, ReLU)\n",
      "\n",
      "Layer      Neurons    Weights                                                      Biases                        \n",
      "--------------------------------------------------------------------------------------------------------------\n",
      "L_1        64         0.0065, 0.0047, -0.0058, ..., 0.0055, -0.0069, 0.0112        0.00, 0.00, 0.00, 0.00, ...   \n",
      "L_1        32         -0.0024, 0.0050, -0.0063, ..., -0.0038, -0.0156, 0.0082      0.00, 0.00, 0.00, 0.00, ...   \n",
      "L_2        10         -0.0049, -0.0011, 0.0118, ..., 0.0158, -0.0054, 0.0119       0.00, 0.00, 0.00, 0.00, ...   \n",
      "\n"
     ]
    }
   ],
   "source": [
    "my_model = Sequential(\n",
    "    layers=[\n",
    "        DenseLayer(input_size=784, num_neurons=64, activation=ReLU()),\n",
    "        DenseLayer(input_size=64, num_neurons=32, activation=ReLU()),\n",
    "        DenseLayer(input_size=32, num_neurons=10, activation=ReLU()),\n",
    "    ],\n",
    "    init_weights_mult=0.01,\n",
    ")\n",
    "print(my_model)"
   ]
  },
  {
   "cell_type": "code",
   "execution_count": 45,
   "metadata": {},
   "outputs": [
    {
     "data": {
      "image/png": "[encoded data removed]",
      "text/plain": [
       "<Figure size 640x480 with 2 Axes>"
      ]
     },
     "metadata": {},
     "output_type": "display_data"
    },
    {
     "name": "stdout",
     "output_type": "stream",
     "text": [
      "\n",
      "My Model: L_1: (64, ReLU) -> L_1: (32, ReLU) -> L_2: (10, ReLU)\n",
      "\n",
      "Layer      Neurons    Weights                                                      Biases                        \n",
      "--------------------------------------------------------------------------------------------------------------\n",
      "L_1        64         0.0065, 0.0047, -0.0058, ..., 0.0055, -0.0069, 0.0112        -0.07, 0.16, 0.35, 0.13, ...  \n",
      "L_1        32         0.2297, 0.2359, 0.0010, ..., -0.0849, -0.0158, -0.0137       0.32, 0.21, 0.02, 0.03, ...   \n",
      "L_2        10         0.0677, -0.1896, -0.1732, ..., 0.1552, -0.1613, -0.4148      0.70, 0.67, 0.82, 0.75, ...   \n",
      "\n"
     ]
    }
   ],
   "source": [
    "train(\n",
    "    model=my_model,\n",
    "    train_data=x_train,\n",
    "    train_labels=y_train,\n",
    "    loss=MSE(),\n",
    "    learning_rate=0.05,\n",
    "    batch_size=10,\n",
    "    epochs=25,\n",
    "    shuffle = True,\n",
    "    make_plot = True\n",
    ")\n",
    "print(my_model)"
   ]
  },
  {
   "cell_type": "code",
   "execution_count": 46,
   "metadata": {},
   "outputs": [
    {
     "name": "stdout",
     "output_type": "stream",
     "text": [
      "Correct predictions: 9640/10000\n",
      "Accuracy: 96.400%\n"
     ]
    }
   ],
   "source": [
    "test(model=my_model, test_data=x_test, test_labels=y_test)"
   ]
  }
 ],
 "metadata": {
  "kernelspec": {
   "display_name": ".venv",
   "language": "python",
   "name": "python3"
  },
  "language_info": {
   "codemirror_mode": {
    "name": "ipython",
    "version": 3
   },
   "file_extension": ".py",
   "mimetype": "text/x-python",
   "name": "python",
   "nbconvert_exporter": "python",
   "pygments_lexer": "ipython3",
   "version": "3.9.6"
  }
 },
 "nbformat": 4,
 "nbformat_minor": 2
}
